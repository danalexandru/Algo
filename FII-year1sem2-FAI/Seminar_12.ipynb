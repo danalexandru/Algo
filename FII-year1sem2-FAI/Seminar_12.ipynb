{
 "cells": [
  {
   "cell_type": "markdown",
   "metadata": {},
   "source": [
    "# Seminar 12"
   ]
  },
  {
   "cell_type": "code",
   "execution_count": 32,
   "metadata": {
    "collapsed": false
   },
   "outputs": [
    {
     "name": "stdout",
     "output_type": "stream",
     "text": [
      "x^6 + x^5 + x^3\n",
      "Binary representation of x^6 + x^5 + x^3 is: [0, 1, 1, 0, 1, 0, 0, 0]\n"
     ]
    }
   ],
   "source": [
    "import re\n",
    "\n",
    "dimension = 8 # GF(2^8)\n",
    "polynomial_str = 'x^6 + x^5 + x^3'\n",
    "print(polynomial_str)\n",
    "\n",
    "def get_binary_representation(polynomial_str):\n",
    "    # regex allows for simple notation as above, with or without spaces between powers\n",
    "    match_obj = re.findall( r'x\\^(\\d)\\s?', polynomial_str)\n",
    "\n",
    "    binary_number = [0 for x in range(dimension)]\n",
    "\n",
    "    if match_obj:\n",
    "        # each item will be a power\n",
    "        for item in match_obj:\n",
    "            binary_number[dimension - int(item) - 1] = 1\n",
    "    else:\n",
    "        print('No match !')\n",
    "\n",
    "    return binary_number\n",
    "\n",
    "print('Binary representation of %s is: %s' % (str(polynomial_str), get_binary_representation(polynomial_str)))\n"
   ]
  },
  {
   "cell_type": "code",
   "execution_count": 58,
   "metadata": {
    "collapsed": false
   },
   "outputs": [
    {
     "name": "stdout",
     "output_type": "stream",
     "text": [
      "[0, 1, 1, 0, 1, 0, 0, 0]\n",
      "Result of XTIME is: [1, 1, 0, 1, 0, 0, 0, 0]\n",
      "[0, 1, 1, 0, 1, 0, 0, 0] \n",
      "\n",
      "[1, 1, 1, 0, 1, 0, 0, 0]\n",
      "Result of XTIME is: [1, 1, 0, 0, 1, 0, 1, 1]\n",
      "[1, 1, 1, 0, 1, 0, 0, 0] \n",
      "\n",
      "[1, 1, 1, 0, 1, 0, 0, 0]\n",
      "Result of XTIME is: [1, 0, 0, 0, 1, 1, 0, 1]\n",
      "[1, 1, 1, 0, 1, 0, 0, 0] \n",
      "\n"
     ]
    }
   ],
   "source": [
    "\n",
    "def XTIME(power, binary_p, binary_f):\n",
    "    # constrain pass by value\n",
    "    binary_p = binary_p[:]\n",
    "    if binary_p[0] == 0:\n",
    "        binary_p.remove(binary_p[0])\n",
    "        binary_p.append(0)\n",
    "    else:\n",
    "        binary_p.append(0)\n",
    "        binary_p = [ (binary_p[i] + binary_f[i]) % 2 for i in range(len(binary_p))]\n",
    "        binary_p.remove(binary_p[0])\n",
    "    if power == 1:\n",
    "        return binary_p\n",
    "    else:\n",
    "        return XTIME(power-1, binary_p, binary_f)\n",
    "\n",
    "\n",
    "# case 1 - no recursion, first character is 0\n",
    "binary_p = [0, 1, 1, 0, 1, 0, 0, 0]\n",
    "binary_f = [1, 0, 0, 0, 1, 1, 0, 1, 1]\n",
    "power = 1\n",
    "\n",
    "xtime_val = XTIME(power, binary_p, binary_f)\n",
    "assert xtime_val == [1, 1, 0, 1, 0, 0, 0, 0], \"Assertion for test case 1 failed !\"\n",
    "\n",
    "print(binary_p)\n",
    "print('Result of XTIME is: ' + str(xtime_val))\n",
    "print(binary_p, '\\n')\n",
    "\n",
    "\n",
    "# case 2 - no recursion, first character is 1\n",
    "binary_p = [1, 1, 1, 0, 1, 0, 0, 0]\n",
    "binary_f = [1, 0, 0, 0, 1, 1, 0, 1, 1]\n",
    "power = 1\n",
    "\n",
    "xtime_val = XTIME(power, binary_p, binary_f)\n",
    "assert xtime_val == [1, 1, 0, 0, 1, 0, 1, 1], \"Assertion for test case 2 failed !\"\n",
    "\n",
    "print(binary_p)\n",
    "print('Result of XTIME is: ' + str(xtime_val))\n",
    "print(binary_p, '\\n')\n",
    "\n",
    "\n",
    "# case 3 - recursion\n",
    "binary_p = [1, 1, 1, 0, 1, 0, 0, 0]\n",
    "binary_f = [1, 0, 0, 0, 1, 1, 0, 1, 1]\n",
    "power = 2\n",
    "\n",
    "xtime_val = XTIME(power, binary_p, binary_f)\n",
    "assert xtime_val == [1, 0, 0, 0, 1, 1, 0, 1], \"Assertion for test case 3 failed !\"\n",
    "\n",
    "print(binary_p)\n",
    "print('Result of XTIME is: ' + str(XTIME(power, binary_p, binary_f)))\n",
    "print(binary_p, '\\n')\n",
    "\n"
   ]
  },
  {
   "cell_type": "code",
   "execution_count": null,
   "metadata": {
    "collapsed": true
   },
   "outputs": [],
   "source": []
  }
 ],
 "metadata": {
  "kernelspec": {
   "display_name": "Python 3",
   "language": "python",
   "name": "python3"
  },
  "language_info": {
   "codemirror_mode": {
    "name": "ipython",
    "version": 3
   },
   "file_extension": ".py",
   "mimetype": "text/x-python",
   "name": "python",
   "nbconvert_exporter": "python",
   "pygments_lexer": "ipython3",
   "version": "3.5.2"
  }
 },
 "nbformat": 4,
 "nbformat_minor": 1
}
