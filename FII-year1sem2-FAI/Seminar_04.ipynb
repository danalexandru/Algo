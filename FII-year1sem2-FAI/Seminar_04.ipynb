{
 "cells": [
  {
   "cell_type": "markdown",
   "metadata": {},
   "source": [
    "# Seminar 04"
   ]
  },
  {
   "cell_type": "code",
   "execution_count": 30,
   "metadata": {
    "collapsed": false
   },
   "outputs": [
    {
     "name": "stdout",
     "output_type": "stream",
     "text": [
      "2\n",
      "10\n",
      "-1\n",
      "2\n"
     ]
    }
   ],
   "source": [
    "# Some math utility functions\n",
    "\n",
    "from math import sqrt\n",
    "\n",
    "'''\n",
    "Simple primality test\n",
    "'''\n",
    "def is_prime(n):\n",
    "    if n == 2:\n",
    "        return True\n",
    "    if n % 2 == 0 or n <= 1:\n",
    "        return False\n",
    "\n",
    "    sqr = int(sqrt(n)) + 1\n",
    "\n",
    "    for divisor in range(3, sqr, 2):\n",
    "        if n % divisor == 0:\n",
    "            return False\n",
    "    return True\n",
    "\n",
    "\n",
    "from math import gcd as bltin_gcd\n",
    "'''\n",
    "Check if two numbers are coprime\n",
    "'''\n",
    "def coprime2(a, b):\n",
    "    return bltin_gcd(a, b) == 1\n",
    "\n",
    "\n",
    "'''\n",
    "Check if number is of the form p^k, and return k\n",
    "TODO: p must be prime !\n",
    "'''\n",
    "def is_multiple_of_k(number):\n",
    "    # copy value ?\n",
    "    if sqrt(number) == int(sqrt(number)):\n",
    "        return int(sqrt(number))\n",
    "    # if number != p^2 -> p^n, n > 2, while p^n > 1.0 ?\n",
    "    power = 3\n",
    "    last_good = -1\n",
    "    while number:\n",
    "        root = number ** 1/power\n",
    "#         print('root: ', root)\n",
    "#         print('power: ', power)\n",
    "        if root == int(root):\n",
    "            last_good = int(root)\n",
    "        elif root <= 1.1:\n",
    "            if last_good != -1:\n",
    "                return last_good\n",
    "            return -1\n",
    "        power += 1\n",
    "# alternative, for every number < sqrt(number), check if number % integer == int(...)\n",
    "        \n",
    "print(is_multiple_of_k(4))\n",
    "print(is_multiple_of_k(100))\n",
    "\n",
    "print(is_multiple_of_k(101))\n",
    "print(is_multiple_of_k(32))\n",
    "\n",
    "# recommended: do prime factorization of a number (rule 3), and after that use rule 4\n"
   ]
  },
  {
   "cell_type": "code",
   "execution_count": 31,
   "metadata": {
    "collapsed": false
   },
   "outputs": [
    {
     "name": "stdout",
     "output_type": "stream",
     "text": [
      "\n",
      "Euler's totient function\n",
      "  ϕ(1) = 1 \n",
      "  ϕ(3) = 2 \n"
     ]
    }
   ],
   "source": [
    "'''\n",
    "Euler's totient calculator\n",
    "- costly\n",
    "'''\n",
    "def calculate_euler_totient(p):\n",
    "    if p == 1:\n",
    "        return 1\n",
    "    elif is_prime(p):\n",
    "        return p-1\n",
    "    #elif \n",
    "        #coprime2(a, b):\n",
    "#     elif is_multiple_of_k(p) != -1:\n",
    "#         return p - p^e-1\n",
    "    \n",
    "\n",
    "print('\\nEuler\\'s totient function')\n",
    "print('  \\u03D5(%s) = %s ' % ( 1, str(calculate_euler_totient(1)) ))\n",
    "print('  \\u03D5(%s) = %s ' % ( 3, str(calculate_euler_totient(3)) ))\n"
   ]
  },
  {
   "cell_type": "code",
   "execution_count": null,
   "metadata": {
    "collapsed": true
   },
   "outputs": [],
   "source": []
  }
 ],
 "metadata": {
  "kernelspec": {
   "display_name": "Python 3",
   "language": "python",
   "name": "python3"
  },
  "language_info": {
   "codemirror_mode": {
    "name": "ipython",
    "version": 3
   },
   "file_extension": ".py",
   "mimetype": "text/x-python",
   "name": "python",
   "nbconvert_exporter": "python",
   "pygments_lexer": "ipython3",
   "version": "3.5.2"
  }
 },
 "nbformat": 4,
 "nbformat_minor": 1
}
