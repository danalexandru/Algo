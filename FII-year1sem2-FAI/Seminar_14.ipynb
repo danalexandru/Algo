{
 "cells": [
  {
   "cell_type": "markdown",
   "metadata": {},
   "source": [
    "# Seminar 14"
   ]
  },
  {
   "cell_type": "code",
   "execution_count": 16,
   "metadata": {
    "collapsed": false
   },
   "outputs": [
    {
     "name": "stdout",
     "output_type": "stream",
     "text": [
      "Hamming weight of 1001 is: 2\n",
      "Hamming distance of 1001 and 1110 is: 3\n"
     ]
    }
   ],
   "source": [
    "def get_Hamming_weight(binary_number):\n",
    "    count = 0\n",
    "    for no in map(int, str(binary_number)):\n",
    "        if no:\n",
    "            count += 1\n",
    "    return count\n",
    "\n",
    "print('Hamming weight of ' + str(1001) + ' is: ' + str(get_Hamming_weight(1001)))\n",
    "\n",
    "def get_Hamming_distance(binary_a, binary_b):\n",
    "    count = 0\n",
    "    i = 0\n",
    "    for i in range(len(str(binary_a))):\n",
    "        if str(binary_a)[i] != str(binary_b)[i]:\n",
    "            count += 1\n",
    "    return count\n",
    "\n",
    "print('Hamming distance of ' + str(1001) + ' and ' + str(1110) + ' is: ' + str(get_Hamming_distance(1001, 1110)))\n",
    "\n"
   ]
  },
  {
   "cell_type": "code",
   "execution_count": null,
   "metadata": {
    "collapsed": true
   },
   "outputs": [],
   "source": [
    "\n",
    "'''\n",
    "Sure is Hw(u) ? (bytes of 1 of u) - seems like it ...\n",
    "or is it Hd(v, u) - v being the closest word in C for u (with how many bytes does u modify v)\n",
    "\n",
    "detection threshold for an error u\n",
    "Hw(u) < d(C)-1\n",
    "\n",
    "correction threshold for an error u\n",
    "Hw(u) < \\floor{ \\frac{d(C)-1}{2} }\n",
    "\n",
    "'''\n"
   ]
  }
 ],
 "metadata": {
  "kernelspec": {
   "display_name": "Python 3",
   "language": "python",
   "name": "python3"
  },
  "language_info": {
   "codemirror_mode": {
    "name": "ipython",
    "version": 3
   },
   "file_extension": ".py",
   "mimetype": "text/x-python",
   "name": "python",
   "nbconvert_exporter": "python",
   "pygments_lexer": "ipython3",
   "version": "3.5.2"
  }
 },
 "nbformat": 4,
 "nbformat_minor": 1
}
