{
 "cells": [
  {
   "cell_type": "markdown",
   "metadata": {},
   "source": [
    "# Seminar 1"
   ]
  },
  {
   "cell_type": "code",
   "execution_count": 49,
   "metadata": {
    "collapsed": false
   },
   "outputs": [
    {
     "name": "stdout",
     "output_type": "stream",
     "text": [
      "A: {1, 2, 3}\n",
      "B: {'α', 'β', 'ɣ'}\n",
      "ρ:  {(3, 'ɣ'), (1, 'β'), (1, 'α')}\n",
      "\n",
      "Inverse\n",
      "ρ:  {(3, 'ɣ'), (1, 'β'), (1, 'α')}\n",
      "ρ^-1:  {('α', 1), ('ɣ', 3), ('β', 1)}\n",
      "\n",
      "Composition\n",
      "ρ:  {(3, 'ɣ'), (1, 'β'), (1, 'α')}\n",
      "σ:  {('α', 'a'), ('ɣ', 'c'), ('β', 'b')}\n",
      "ρ ⋅ σ:  {(1, 'b'), (1, 'a'), (3, 'c')}\n",
      "\n",
      "Reflexive\n",
      "ρ:  {(3, 'ɣ'), (1, 'β'), (1, 'α')}\n",
      "ρ_2:  {(3, 'ɣ'), (1, 'β'), (1, 'α'), (1, 1)}\n",
      "ρ_3:  {(3, 'ɣ'), ('α', 'α'), (3, 3), (1, 'α'), ('ɣ', 'ɣ'), (1, 1)}\n",
      "Is ρ reflexive ? :  False\n",
      "Is ρ_2 reflexive ? :  False\n",
      "Is ρ_3 reflexive ? :  True\n"
     ]
    }
   ],
   "source": [
    "# Example sets\n",
    "A = {1, 2, 3}\n",
    "B = {'\\u03B1', '\\u03B2', '\\u0263'}\n",
    "\n",
    "print('A:', A)\n",
    "print('B:', B)\n",
    "\n",
    "# Example binary relation\n",
    "rho = {(1, '\\u03B1'), (1, '\\u03B2'), (3, '\\u0263')}\n",
    "print('\\u03C1: ', rho)\n",
    "\n",
    "\n",
    "# Specific operations\n",
    "#   Inverse\n",
    "def relation_inverse(rho):\n",
    "    rho_inv = {x[::-1] for x in rho}\n",
    "    return rho_inv\n",
    "\n",
    "print('\\nInverse')\n",
    "print('\\u03C1: ', rho)\n",
    "print('\\u03C1^-1: ', relation_inverse(rho))\n",
    "\n",
    "\n",
    "#   Composition\n",
    "def relation_composition(rho, sigma):\n",
    "    product = set()\n",
    "    \n",
    "    # not quite: print({ (x[1], y[0]) if {x[1] for x in rho} == {y[0] for y in sigma} })\n",
    "    for x in rho:\n",
    "        for y in sigma:\n",
    "            if x[1] == y[0]: # identify transport\n",
    "                product.add( (x[0], y[1]) )\n",
    "    \n",
    "    return product\n",
    "\n",
    "print('\\nComposition')\n",
    "sigma = {('\\u03B1', 'a'), ('\\u03B2', 'b'), ('\\u0263', 'c')}\n",
    "print('\\u03C1: ', rho)\n",
    "print('\\u03C3: ', sigma)\n",
    "print('\\u03C1 \\u22C5 \\u03C3: ', relation_composition(rho, sigma))\n",
    "\n",
    "\n",
    "#   Reflexivity\n",
    "rho_2 = {(1, '\\u03B1'), (1, '\\u03B2'), (3, '\\u0263'), (1, 1)}\n",
    "rho_3 = {(1, '\\u03B1'), (1, 1), ('\\u03B1', '\\u03B1'), (3, '\\u0263'), (3, 3), ('\\u0263', '\\u0263')}\n",
    "def relation_reflexive(rho):\n",
    "    count = 0\n",
    "    for x in rho:\n",
    "        for y in x:\n",
    "            if (y, y) in rho: #TODO: inneficient ?\n",
    "                count += 1\n",
    "    if count == len(rho) * 2: #strictly for a binary relation\n",
    "        return True\n",
    "    return False\n",
    "\n",
    "print('\\nReflexive')\n",
    "print('\\u03C1: ', rho)\n",
    "print('\\u03C1_2: ', rho_2)\n",
    "print('\\u03C1_3: ', rho_3)\n",
    "print('Is \\u03C1 reflexive ? : ', relation_reflexive(rho))     #Should be False\n",
    "print('Is \\u03C1_2 reflexive ? : ', relation_reflexive(rho_2)) #Should be False\n",
    "print('Is \\u03C1_3 reflexive ? : ', relation_reflexive(rho_3)) #Should be True\n",
    "\n"
   ]
  },
  {
   "cell_type": "code",
   "execution_count": 42,
   "metadata": {
    "collapsed": false
   },
   "outputs": [
    {
     "name": "stdout",
     "output_type": "stream",
     "text": [
      "ι_A:  ('a', 'a')\n"
     ]
    }
   ],
   "source": [
    "# Classical sets\n",
    "def iota(A):\n",
    "    small_A = chr(ord(A) + 32)\n",
    "    return (small_A, small_A)\n",
    "\n",
    "print('\\u03B9_A: ', iota('A'))\n",
    "\n"
   ]
  },
  {
   "cell_type": "code",
   "execution_count": null,
   "metadata": {
    "collapsed": true
   },
   "outputs": [],
   "source": []
  },
  {
   "cell_type": "markdown",
   "metadata": {},
   "source": [
    "---"
   ]
  }
 ],
 "metadata": {
  "kernelspec": {
   "display_name": "Python 3",
   "language": "python",
   "name": "python3"
  },
  "language_info": {
   "codemirror_mode": {
    "name": "ipython",
    "version": 3
   },
   "file_extension": ".py",
   "mimetype": "text/x-python",
   "name": "python",
   "nbconvert_exporter": "python",
   "pygments_lexer": "ipython3",
   "version": "3.5.2"
  }
 },
 "nbformat": 4,
 "nbformat_minor": 1
}
