{
 "cells": [
  {
   "cell_type": "markdown",
   "metadata": {
    "slideshow": {
     "slide_type": "slide"
    }
   },
   "source": [
    "# Seminar special SI\n",
    "## Prezentare"
   ]
  },
  {
   "cell_type": "markdown",
   "metadata": {
    "slideshow": {
     "slide_type": "slide"
    }
   },
   "source": [
    "## 1. Security protocol checkers:\n",
    "+ ### Scyther\n",
    "+ ### Isabelle\n",
    "+ ### AVISPA\n",
    "+ ### McMAS\n"
   ]
  },
  {
   "cell_type": "markdown",
   "metadata": {
    "slideshow": {
     "slide_type": "slide"
    }
   },
   "source": [
    "## 1. Prezentare tool-uri pt verificarea protocoalelor de securitate:\n"
   ]
  },
  {
   "cell_type": "markdown",
   "metadata": {
    "slideshow": {
     "slide_type": "slide"
    }
   },
   "source": [
    "# Scyther\n",
    "\n",
    "> [cs.ox.ac.uk/people/cas.cremers/scyther/](https://www.cs.ox.ac.uk/people/cas.cremers/scyther/)\n",
    "> [cs.ox.ac.uk/people/cas.cremers/tools/protocols.html](https://www.cs.ox.ac.uk/people/cas.cremers/tools/protocols.html)  \n",
    "> [github.com/cascremers/scyther/blob/master/gui/Protocols/Demo/nsl3-broken.spdl](https://github.com/cascremers/scyther/blob/master/gui/Protocols/Demo/nsl3-broken.spdl)  \n",
    "> [profs.info.uaic.ro/~cbirjoveanu/web/Ps/Scyther/scyther-manual.pdf](https://profs.info.uaic.ro/~cbirjoveanu/web/Ps/Scyther/scyther-manual.pdf)\n",
    "\n",
    "http://www.infsec.ethz.ch/research/software/scyther-proof.html\n"
   ]
  },
  {
   "cell_type": "markdown",
   "metadata": {
    "slideshow": {
     "slide_type": "subslide"
    }
   },
   "source": [
    "![](assets/scyther01.png)"
   ]
  },
  {
   "cell_type": "markdown",
   "metadata": {
    "slideshow": {
     "slide_type": "subslide"
    }
   },
   "source": [
    "> Scyther is a tool for the formal analysis of security protocols under the `perfect cryptography\n",
    "assumption`, in which it is assumed that `all cryptographic functions are perfect`: the `adversary\n",
    "learns nothing from an encrypted message unless he knows the decryption key`. \n",
    "\n",
    "> The tool can\n",
    "be used to find problems that arise from the way the protocol is constructed. This problem is\n",
    "undecidable in general, but in practice many protocols can be either proven correct or attacks\n",
    "can be found.\n",
    "\n",
    "pg. 7, Scyther manual"
   ]
  },
  {
   "cell_type": "markdown",
   "metadata": {
    "slideshow": {
     "slide_type": "subslide"
    }
   },
   "source": [
    "\n",
    "https://github.com/cascremers/scyther/blob/master/gui/Protocols/woo-lam.spdl\n",
    "http://en.bmstu.wiki/Woo-Lam_(protocol)\n",
    "https://profs.info.uaic.ro/~cbirjoveanu/web/Ps/Scyther/scyther-manual.pdf\n"
   ]
  },
  {
   "cell_type": "markdown",
   "metadata": {
    "slideshow": {
     "slide_type": "slide"
    }
   },
   "source": [
    "# Isabelle\n",
    "> [cl.cam.ac.uk/research/hvg/Isabelle/](https://www.cl.cam.ac.uk/research/hvg/Isabelle/)  \n",
    "\n"
   ]
  },
  {
   "cell_type": "markdown",
   "metadata": {
    "slideshow": {
     "slide_type": "slide"
    }
   },
   "source": [
    "# AVISPA\n",
    "> [avispa-project.org/](http://www.avispa-project.org/)  \n",
    "> [avispa-project.org/web-interface/index.php](http://www.avispa-project.org/web-interface/index.php)  \n",
    "\n"
   ]
  },
  {
   "cell_type": "markdown",
   "metadata": {
    "slideshow": {
     "slide_type": "slide"
    }
   },
   "source": [
    "# McMAS\n",
    "> [vas.doc.ic.ac.uk/software/mcmas/download/](http://vas.doc.ic.ac.uk/software/mcmas/download/)  \n",
    "\n"
   ]
  },
  {
   "cell_type": "markdown",
   "metadata": {
    "slideshow": {
     "slide_type": "slide"
    }
   },
   "source": [
    "# 2. Lenstra's attack - implementation and protection"
   ]
  },
  {
   "cell_type": "markdown",
   "metadata": {
    "slideshow": {
     "slide_type": "slide"
    }
   },
   "source": [
    "> Cracking RSA with CRT  \n",
    "> Recover RSA private key from public keys - rhme2 Key Server (crypto 200)  \n",
    "> [rhme.riscure.com/3/news](https://rhme.riscure.com/3/news)  \n",
    "> [github.com/Riscure/Rhme-2016](https://github.com/Riscure/Rhme-2016)  \n",
    "> [github.com/win0x86/Lab/tree/master/mitm](https://github.com/win0x86/Lab/tree/master/mitm)  \n",
    "\n"
   ]
  },
  {
   "cell_type": "markdown",
   "metadata": {
    "slideshow": {
     "slide_type": "slide"
    }
   },
   "source": []
  },
  {
   "cell_type": "markdown",
   "metadata": {
    "slideshow": {
     "slide_type": "slide"
    }
   },
   "source": [
    "More links:\n",
    "+ http://www-verimag.imag.fr/~plafourc/teaching/Lecture_Note09/Lecture9_Javelle_Ripert_Wloka.pdf\n",
    "\n",
    "\n",
    "TOOLS \n",
    "Tutorial SPAN+AVISPA - https://www.youtube.com/watch?v=YvgHw5pr5bA\n",
    "Avispa-EKE protocol  tutorial - https://www.youtube.com/watch?v=uAU-pFOIWW8\n",
    "AVISPA Tutorial PART -1 - https://www.youtube.com/watch?v=sGeZcRmLyFI\n",
    "Enhancement of the Authentication and Key Agreement Protocol in 4G Mobile Networks - https://www.youtube.com/watch?v=JlOK6LeZ9oM\n",
    " \n",
    "#### Scyther install   \n",
    "sudo pip3 install wxpython \n",
    " \n",
    "sudo pip3 install \\ \n",
    "    -f https://extras.wxpython.org/wxPython4/extras/linux/gtk3/ubuntu-16.04 \\ \n",
    "    WxPython \n",
    " \n",
    "sudo pip3 install \\ \n",
    "    -f https://extras.wxpython.org/wxPython4/extras/linux/gtk3/ubuntu-14.04/ \\ \n",
    "    wxPython \n",
    " \n",
    " \n",
    "sudo apt-get install gtk2.0  \n",
    "sudo apt-get install gtk3.0  \n",
    " \n",
    "https://wxpython.org/pages/downloads/index.html \n",
    "\n",
    " \n",
    "http://seclab.stanford.edu/pcl/mc/mc.html "
   ]
  },
  {
   "cell_type": "markdown",
   "metadata": {
    "slideshow": {
     "slide_type": "slide"
    }
   },
   "source": [
    "---"
   ]
  }
 ],
 "metadata": {
  "celltoolbar": "Slideshow",
  "kernelspec": {
   "display_name": "Python 3",
   "language": "python",
   "name": "python3"
  },
  "language_info": {
   "codemirror_mode": {
    "name": "ipython",
    "version": 3
   },
   "file_extension": ".py",
   "mimetype": "text/x-python",
   "name": "python",
   "nbconvert_exporter": "python",
   "pygments_lexer": "ipython3",
   "version": "3.5.2"
  },
  "varInspector": {
   "cols": {
    "lenName": 16,
    "lenType": 16,
    "lenVar": 40
   },
   "kernels_config": {
    "python": {
     "delete_cmd_postfix": "",
     "delete_cmd_prefix": "del ",
     "library": "var_list.py",
     "varRefreshCmd": "print(var_dic_list())"
    },
    "r": {
     "delete_cmd_postfix": ") ",
     "delete_cmd_prefix": "rm(",
     "library": "var_list.r",
     "varRefreshCmd": "cat(var_dic_list()) "
    }
   },
   "types_to_exclude": [
    "module",
    "function",
    "builtin_function_or_method",
    "instance",
    "_Feature"
   ],
   "window_display": false
  }
 },
 "nbformat": 4,
 "nbformat_minor": 1
}
