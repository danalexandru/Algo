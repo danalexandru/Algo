{
 "cells": [
  {
   "cell_type": "markdown",
   "metadata": {},
   "source": [
    "# CN"
   ]
  },
  {
   "cell_type": "code",
   "execution_count": 19,
   "metadata": {
    "collapsed": false
   },
   "outputs": [
    {
     "name": "stdout",
     "output_type": "stream",
     "text": [
      "A:\n",
      " [[1 2 3]\n",
      " [3 4 5]]\n",
      "B:\n",
      " [[3 2 1]\n",
      " [5 4 3]]\n",
      "\n",
      "Properties:\n",
      "A - dimensions:  (2, 3)\n",
      "A - no elements:  6\n",
      "\n",
      "Operations:\n",
      "A+B:\n",
      " [[4 4 4]\n",
      " [8 8 8]]\n",
      "A-B:\n",
      " [[-2  0  2]\n",
      " [-2  0  2]]\n",
      "A*B:\n",
      " [[28 22 16  0]\n",
      " [54 42 30  0]]\n"
     ]
    }
   ],
   "source": [
    "import numpy as np\n",
    "\n",
    "np.version\n",
    "A = np.matrix([[1, 2, 3], [3, 4, 5]])\n",
    "B = np.matrix([[3, 2, 1], [5, 4, 3]])\n",
    "\n",
    "print('A:\\n', A)\n",
    "print('B:\\n', B)\n",
    "\n",
    "print('\\nProperties:')\n",
    "print('A - dimensions: ', A.shape)\n",
    "print('A - no elements: ', np.prod(A.shape)) # same as A.size\n",
    "\n",
    "print('\\nOperations:')\n",
    "print('A+B:\\n', A+B)\n",
    "print('A-B:\\n', A-B)\n",
    "B = np.matrix([[3, 2, 1, 0], [5, 4, 3, 0], [5, 4, 3, 0]])\n",
    "print('A*B:\\n', A.dot(B)) # (2, 3) * (3, 4) = (2, 4)\n",
    "\n"
   ]
  },
  {
   "cell_type": "code",
   "execution_count": null,
   "metadata": {
    "collapsed": true
   },
   "outputs": [],
   "source": []
  }
 ],
 "metadata": {
  "kernelspec": {
   "display_name": "Python 3",
   "language": "python",
   "name": "python3"
  },
  "language_info": {
   "codemirror_mode": {
    "name": "ipython",
    "version": 3
   },
   "file_extension": ".py",
   "mimetype": "text/x-python",
   "name": "python",
   "nbconvert_exporter": "python",
   "pygments_lexer": "ipython3",
   "version": "3.5.2"
  }
 },
 "nbformat": 4,
 "nbformat_minor": 1
}
