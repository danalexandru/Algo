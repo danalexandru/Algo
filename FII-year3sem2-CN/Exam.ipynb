{
 "cells": [
  {
   "cell_type": "markdown",
   "metadata": {},
   "source": [
    "# Exam\n"
   ]
  },
  {
   "cell_type": "markdown",
   "metadata": {},
   "source": [
    "## Problem 2. Interpolation\n",
    "---\n",
    "#### TODO: update with matplotlib example of how linear spline interpolation works\n",
    "![\"Interpolation comparison example\"](http://www.codecogs.com/users/378/interpolation_ref_linear.png)\n",
    "> Linear Spline Interpolation visualization - will be updated\n",
    "\n",
    "---\n",
    "\n",
    "Given the inputs and function values below, approximate `f(-1)` and `f(1)` by **linear spline functions**."
   ]
  },
  {
   "cell_type": "code",
   "execution_count": 1,
   "metadata": {
    "collapsed": true
   },
   "outputs": [],
   "source": [
    "from IPython.display import display\n",
    "import pandas as pd"
   ]
  },
  {
   "cell_type": "code",
   "execution_count": 2,
   "metadata": {
    "collapsed": false
   },
   "outputs": [
    {
     "name": "stdout",
     "output_type": "stream",
     "text": [
      "      -2   0   2   3\n",
      "f(x)  -3  -5   9  22\n"
     ]
    }
   ],
   "source": [
    "index = ['f(x)']\n",
    "columns = [-2, 0, 2, 3]\n",
    "data = [[-3, -5, 9, 22]]\n",
    "\n",
    "df = pd.DataFrame(data, index=index, columns=columns)\n",
    "\n",
    "print(df)"
   ]
  },
  {
   "cell_type": "code",
   "execution_count": 3,
   "metadata": {
    "collapsed": false
   },
   "outputs": [
    {
     "data": {
      "text/html": [
       "<div>\n",
       "<style>\n",
       "    .dataframe thead tr:only-child th {\n",
       "        text-align: right;\n",
       "    }\n",
       "\n",
       "    .dataframe thead th {\n",
       "        text-align: left;\n",
       "    }\n",
       "\n",
       "    .dataframe tbody tr th {\n",
       "        vertical-align: top;\n",
       "    }\n",
       "</style>\n",
       "<table border=\"1\" class=\"dataframe\">\n",
       "  <thead>\n",
       "    <tr style=\"text-align: right;\">\n",
       "      <th></th>\n",
       "      <th>1</th>\n",
       "      <th>2</th>\n",
       "      <th>3</th>\n",
       "      <th>4</th>\n",
       "    </tr>\n",
       "  </thead>\n",
       "  <tbody>\n",
       "    <tr>\n",
       "      <th>x</th>\n",
       "      <td>-2</td>\n",
       "      <td>0</td>\n",
       "      <td>2</td>\n",
       "      <td>3</td>\n",
       "    </tr>\n",
       "    <tr>\n",
       "      <th>f(x)</th>\n",
       "      <td>-3</td>\n",
       "      <td>-5</td>\n",
       "      <td>9</td>\n",
       "      <td>22</td>\n",
       "    </tr>\n",
       "  </tbody>\n",
       "</table>\n",
       "</div>"
      ],
      "text/plain": [
       "      1  2  3   4\n",
       "  x  -2  0  2   3\n",
       "f(x) -3 -5  9  22"
      ]
     },
     "metadata": {},
     "output_type": "display_data"
    }
   ],
   "source": [
    "# for brevity, we will write it like this\n",
    "\n",
    "index = ['  x', 'f(x)']\n",
    "columns = [1, 2, 3, 4] #['x1', 'x2', 'x3', 'x4']\n",
    "data = [[-2, 0, 2, 3], [-3, -5, 9, 22]]\n",
    "\n",
    "df = pd.DataFrame(data, index=index, columns=columns)\n",
    "\n",
    "display(df)"
   ]
  },
  {
   "cell_type": "markdown",
   "metadata": {},
   "source": [
    "\n",
    "**Linear spline functions** are calculated with the following:\n",
    "  \n",
    "$$i \\in [1,\\ \\left\\vert{X}\\right\\vert - 1],\\ i \\in \\mathbb{N}: $$  \n",
    "$$P_i = \\frac{x-x_i}{x_{i+1}-x_i} * y_{i+1} + \\frac{x_{i+1}-x}{x_{i+1}-x_i} * y_i$$\n"
   ]
  },
  {
   "cell_type": "markdown",
   "metadata": {},
   "source": [
    "By simplification, we can reduce to the following:\n",
    "\n",
    "$$P_i = \\frac{y_{i+1} (x-x_i) + y_i (x_{i+1}-x)}{x_{i+1}-x_i} = \\frac{(y_{i+1}*x - y_i*x) - y_{i+1}*x_i + y_i*x_{i+1}}{x_{i+1}-x_i}$$\n",
    "\n",
    "The final form used will be:\n",
    "$$P_i = \\frac{(y_{i+1}*x - y_i*x) + (y_i*x_{i+1} - y_{i+1}*x_i)}{(x_{i+1}-x_i)}$$\n",
    "\n",
    "As it can be seen, **the only gist** would be to emulate the `x` in the first term (`num1s` **below**), the other terms being numbers (`num2`, `den`). Parantheses used to isolate the formula for each of the 3 variables.  \n",
    "  \n",
    "As such, we can write the parantheses as a string, while the others will be simply calculated. After this, the final string is **evaluated as a lambda function**.\n"
   ]
  },
  {
   "cell_type": "code",
   "execution_count": 4,
   "metadata": {
    "collapsed": false
   },
   "outputs": [
    {
     "name": "stdout",
     "output_type": "stream",
     "text": [
      "x1 = -2\n",
      "x2 = 0\n",
      "y1 = -3\n",
      "y2 = -5\n",
      "---\n",
      "no values: 4\n",
      "\n",
      "P[1]\n",
      "num_1s: -5 * x - -3 * x\n",
      "num_2: -10\n",
      "den: 2\n",
      "func: lambda x: (-5 * x - -3 * x-10) / 2\n",
      "\n",
      "P[2]\n",
      "num_1s: 9 * x - -5 * x\n",
      "num_2: -10\n",
      "den: 2\n",
      "func: lambda x: (9 * x - -5 * x-10) / 2\n",
      "\n",
      "P[3]\n",
      "num_1s: 22 * x - 9 * x\n",
      "num_2: -17\n",
      "den: 1\n",
      "func: lambda x: (22 * x - 9 * x-17) / 1\n",
      "---\n"
     ]
    }
   ],
   "source": [
    "# we need x1, x2, y2, y1\n",
    "# data[0][0], data[0][1], data[1][1], data[1][0]\n",
    "# becomes\n",
    "# data[0][i], data[0][i+1], data[1][i+1], data[1][i]\n",
    "print('x1 = %i' % data[0][0])\n",
    "print('x2 = %i' % data[0][1])\n",
    "print('y1 = %i' % data[1][0])\n",
    "print('y2 = %i' % data[1][1])\n",
    "\n",
    "print('---')\n",
    "\n",
    "# linear spline function aproximation\n",
    "max_val = len(columns)\n",
    "print('no values: %i' % max_val)\n",
    "\n",
    "spline = {}\n",
    "\n",
    "for i in range(max_val-1):\n",
    "    print('\\nP[' + str(i+1) + ']')\n",
    "    \n",
    "    # we calculate the numerator\n",
    "    num_1s = str(data[1][i+1]) + ' * x - ' + str(data[1][i]) + ' * x'\n",
    "    print('num_1s: %s' % num_1s)\n",
    "    \n",
    "    num_2  = data[1][i] * data[0][i+1] - data[1][i+1] * data[0][i]\n",
    "    print('num_2: %i' % num_2)\n",
    "    \n",
    "    # we calculate the denominator\n",
    "    den = data[0][i+1] - data[0][i]\n",
    "    print('den: %i' % den)\n",
    "    \n",
    "    # constructing the function\n",
    "    func = 'lambda x: (' + num_1s + str(num_2) + ') / ' + str(den)\n",
    "    print('func: %s' % func)\n",
    "    spline[i] = eval(func)\n",
    "\n",
    "print('---')\n",
    "\n",
    "# sanity checks\n",
    "# P1(x) = -x - 5\n",
    "assert (spline[0](-5) == 0),\"For this example, the value should be 0, but the value returned is \" + str(spline[0](-5))\n",
    "# P2(x) = 4x + 1\n",
    "# TODO: this is failing (checked my solution, probably my assertion is wrong) !\n",
    "#assert (spline[1](0) == 1),\"For this example, the value should be 1, but the value returned is \" + str(spline[1](0))\n",
    "# P3(x) = 13x - 17\n",
    "assert (spline[2](1) == -4),\"For this example, the value should be -4, but the value returned is \" + str(spline[2](1))\n"
   ]
  },
  {
   "cell_type": "code",
   "execution_count": 5,
   "metadata": {
    "collapsed": false
   },
   "outputs": [
    {
     "name": "stdout",
     "output_type": "stream",
     "text": [
      "Approximating values of S\n",
      "\n",
      "Approximation using P[0] is: -4\n",
      "Approximation using P[1] is: 2\n"
     ]
    }
   ],
   "source": [
    "print('Approximating values of S\\n')\n",
    "aproximation_queue = [-1, 1]\n",
    "\n",
    "def approximate(spline, val):\n",
    "    for i in range(len(spline)-1):\n",
    "        if data[0][i] <= val <= data[0][i+1]:\n",
    "            print('Approximation using P[%i] is: %i' % (i, spline[i](val)))\n",
    "\n",
    "for i in range(len(aproximation_queue)):\n",
    "    approximate(spline, aproximation_queue[i])\n",
    "\n",
    "# sanity checks\n",
    "# S(-1) = P1(-1) = -4\n",
    "assert (spline[0](-1) == -4),\"For this example, the value should be -4, but the value returned is \" + str(spline[0](-5))\n",
    "# S(1) = P2(1) = 5\n",
    "# TODO: same as above !\n",
    "#assert (spline[1](1) == 5),\"For this example, the value should be 5, but the value returned is \" + str(spline[1](0))\n"
   ]
  },
  {
   "cell_type": "markdown",
   "metadata": {},
   "source": [
    "---"
   ]
  }
 ],
 "metadata": {
  "kernelspec": {
   "display_name": "Python 3",
   "language": "python",
   "name": "python3"
  },
  "language_info": {
   "codemirror_mode": {
    "name": "ipython",
    "version": 3
   },
   "file_extension": ".py",
   "mimetype": "text/x-python",
   "name": "python",
   "nbconvert_exporter": "python",
   "pygments_lexer": "ipython3",
   "version": "3.5.2"
  }
 },
 "nbformat": 4,
 "nbformat_minor": 1
}
